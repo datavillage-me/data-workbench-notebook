{
  "nbformat": 4,
  "nbformat_minor": 0,
  "metadata": {
    "colab": {
      "name": "datavillage-tutorial.ipynb",
      "provenance": [],
      "collapsed_sections": [],
      "include_colab_link": true
    },
    "kernelspec": {
      "name": "python3",
      "display_name": "Python 3"
    }
  },
  "cells": [
    {
      "cell_type": "markdown",
      "metadata": {
        "id": "view-in-github",
        "colab_type": "text"
      },
      "source": [
        "<a href=\"https://colab.research.google.com/github/datavillage-me/data-workbench-notebook/blob/master/datavillage_tutorial.ipynb\" target=\"_parent\"><img src=\"https://colab.research.google.com/assets/colab-badge.svg\" alt=\"Open In Colab\"/></a>"
      ]
    },
    {
      "cell_type": "markdown",
      "metadata": {
        "id": "uieQVLazMXYR",
        "colab_type": "text"
      },
      "source": [
        "# Datavillage Tutorial\n",
        "\n",
        "This notebook shows the step-by-step tutorial on how to use the datavillage sdk to explore your graph data.\n"
      ]
    },
    {
      "cell_type": "markdown",
      "metadata": {
        "id": "bxAYpL39JCTn",
        "colab_type": "text"
      },
      "source": [
        "## Getting started\n",
        "\n",
        "What do you need to get started\n",
        "\n",
        "- Access to Datavillage Developer Portal (https://developer.datavillage.me/login)\n",
        "- Create Consent Receipt via the Portal (https://developer.datavillage.me/auth/consents)\n",
        "- Get user's consent, import your data (https://developer.datavillage.me/auth/workbench)\n",
        "- Use the sdk to Query the Graph\n",
        "- Use python based analytical algorithm to create interesting insights on your data"
      ]
    },
    {
      "cell_type": "markdown",
      "metadata": {
        "id": "la8P6quKHDwc",
        "colab_type": "text"
      },
      "source": [
        "### User Access Token\n",
        "You will receive this User Access token after you have followed the steps in the steps in the developer portal. Input the token here"
      ]
    },
    {
      "cell_type": "code",
      "metadata": {
        "id": "FkWWtGvYMNYa",
        "colab_type": "code",
        "cellView": "form",
        "colab": {}
      },
      "source": [
        "## Insert your user access token generated from the developer portal to get started\n",
        "user_access_token = \"\" #@param {type:\"string\"}\n"
      ],
      "execution_count": null,
      "outputs": []
    },
    {
      "cell_type": "markdown",
      "metadata": {
        "id": "nQgn8aRjGzJj",
        "colab_type": "text"
      },
      "source": [
        "### Install SDK\n",
        "Let's install the datavillage SDK"
      ]
    },
    {
      "cell_type": "code",
      "metadata": {
        "id": "JFooN-ZlLEqm",
        "colab_type": "code",
        "colab": {}
      },
      "source": [
        "## Install datavillage sdk\n",
        "!pip install datavillage-sdk==0.1.3"
      ],
      "execution_count": null,
      "outputs": []
    },
    {
      "cell_type": "markdown",
      "metadata": {
        "id": "5_bud4uaHTNJ",
        "colab_type": "text"
      },
      "source": [
        "### Prepare your Query\n",
        "Import cage from datavillage sdk and provide your input query for the GraphQL endpoint"
      ]
    },
    {
      "cell_type": "code",
      "metadata": {
        "id": "EITt_i6jTmkl",
        "colab_type": "code",
        "colab": {}
      },
      "source": [
        "from datavillage_sdk.user.cages import Cages"
      ],
      "execution_count": null,
      "outputs": []
    },
    {
      "cell_type": "code",
      "metadata": {
        "id": "01bVUL0oXukL",
        "colab_type": "code",
        "colab": {}
      },
      "source": [
        "cage = Cages()"
      ],
      "execution_count": null,
      "outputs": []
    },
    {
      "cell_type": "code",
      "metadata": {
        "id": "XKSy9qRlXwnu",
        "colab_type": "code",
        "colab": {}
      },
      "source": [
        "import json\n",
        "query = \"\"\" \n",
        "    {\n",
        "  Person\n",
        "  {\n",
        "    uri \n",
        "    id \n",
        "    actions\n",
        "    {\n",
        "      uri\n",
        "      type\n",
        "      dataProvider\n",
        "      description\n",
        "      distance\n",
        "      startTime \n",
        "      {\n",
        "        year\n",
        "        month\n",
        "        day\n",
        "      }\n",
        "      movingTime\n",
        "      elapseTime\n",
        "      instruments \n",
        "      {\n",
        "        type\n",
        "      }\n",
        "    }\n",
        "  }\n",
        "}\"\"\"\n",
        "data={\"query\": query}\n",
        "try:\n",
        "  r = cage.query_digital_profile(query=json.dumps(data), user_access_token=user_access_token)\n",
        "  response_data = json.loads(r.text)\n",
        "  print(r.text)\n",
        "except Exception as e:\n",
        "  print(e)"
      ],
      "execution_count": null,
      "outputs": []
    },
    {
      "cell_type": "markdown",
      "metadata": {
        "id": "Qaz5ryJtJGNo",
        "colab_type": "text"
      },
      "source": [
        "## Explore your universe"
      ]
    },
    {
      "cell_type": "markdown",
      "metadata": {
        "id": "KZ_2N0bVJYwc",
        "colab_type": "text"
      },
      "source": [
        "### Load Json response to a dataframe"
      ]
    },
    {
      "cell_type": "code",
      "metadata": {
        "id": "o8OylK3jazPz",
        "colab_type": "code",
        "colab": {}
      },
      "source": [
        "print(type(response_data['data']['Person']))\n",
        "for d in response_data['data']:\n",
        "  print(type(d))"
      ],
      "execution_count": null,
      "outputs": []
    },
    {
      "cell_type": "code",
      "metadata": {
        "id": "xkuqPPQWX0Nm",
        "colab_type": "code",
        "colab": {}
      },
      "source": [
        "import pandas as pd\n",
        "actions=response_data['data']['Person'][0]['actions']\n",
        "df = pd.DataFrame(actions)"
      ],
      "execution_count": null,
      "outputs": []
    },
    {
      "cell_type": "code",
      "metadata": {
        "id": "xF_lJB_ZJmVF",
        "colab_type": "code",
        "colab": {}
      },
      "source": [
        "distance=0\n",
        "for index, row in df.iterrows():\n",
        "    df.loc[index,'instrument_type'] = row['instruments'][0]['type']"
      ],
      "execution_count": null,
      "outputs": []
    },
    {
      "cell_type": "code",
      "metadata": {
        "id": "tshSjDwpWndA",
        "colab_type": "code",
        "colab": {}
      },
      "source": [
        "display(df)"
      ],
      "execution_count": null,
      "outputs": []
    },
    {
      "cell_type": "code",
      "metadata": {
        "id": "hICbvDAJZEa7",
        "colab_type": "code",
        "colab": {}
      },
      "source": [
        "import matplotlib.pyplot as plt\n",
        "\n",
        "ax = df['instrument_type'].value_counts().plot(kind='bar',\n",
        "                                    figsize=(14,8),\n",
        "                                    title=\"activities\")\n",
        "ax.set_xlabel(\"Activities\")\n",
        "ax.set_ylabel(\"Frequency\")\n",
        "plt.show()"
      ],
      "execution_count": null,
      "outputs": []
    },
    {
      "cell_type": "code",
      "metadata": {
        "id": "Fy9BDvw73bBB",
        "colab_type": "code",
        "colab": {}
      },
      "source": [
        ""
      ],
      "execution_count": null,
      "outputs": []
    }
  ]
}